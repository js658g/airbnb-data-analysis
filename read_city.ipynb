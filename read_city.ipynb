def read_city(city_data_dir: str):
    """
    Reads the data from a single city.

        :param city_data_dir: String path to the directory that contains the listing.csv file.

        :return: DataFrame that contains the data.
    """

    city_data_dir = Path(city_data_dir)

    listings_df = pd.read_csv(city_data_dir / "listings.csv")
    df = listings_df.set_index(keys=["id"])

    return df